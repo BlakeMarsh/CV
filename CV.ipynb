{
 "cells": [
  {
   "cell_type": "markdown",
   "id": "f35d9338-b40e-413b-a27d-4554c666945c",
   "metadata": {
    "slideshow": {
     "slide_type": "slide"
    }
   },
   "source": [
    "Blake Marsh\n",
    "Dallas, TX · (214) 808-0440 · blakejmarsh5@gmail.com\n",
    "LinkedIn: www.linkedin.com/in/blake-marsh/"
   ]
  },
  {
   "cell_type": "markdown",
   "id": "521ca824-d0f2-4ec3-a0bb-fb59ec9688ad",
   "metadata": {
    "slideshow": {
     "slide_type": "fragment"
    }
   },
   "source": [
    "OBJECTIVE\n",
    "  Economics with Finance Applications senior looking to apply the unique skillset I have learned through\n",
    "  both school and collegiate athletics to gain experience in my field of study. I hope to use these skills in\n",
    "  the workplace to accomplish company objectives and to be a part of something larger than myself."
   ]
  },
  {
   "cell_type": "markdown",
   "id": "1b5b5461-3cb5-40ed-8efc-2992cbc14902",
   "metadata": {
    "slideshow": {
     "slide_type": "slide"
    }
   },
   "source": [
    "EDUCATION  \n",
    "  Southern Methodist University\t\t\t\t\t\t\t         May 2023\n",
    "  Bachelor of Science, Economics with Finance Applications\t\t\t      \t        GPA: 3.86\n",
    "\t\t\t\t\t\t\t\t\t\t        Overall GPA: 3.54\n",
    "  Wichita State University\t\t\t\t\t\t\t\t      \n",
    "  Bachelor of Science, Aerospace Engineering\t\t\t\t\t   Aug 2019 – Dec 2020\n",
    "  Bachelor of Business Administration, Finance\t\t\t\t\t    Jan 2021 – May 2021"
   ]
  },
  {
   "cell_type": "markdown",
   "id": "fe5bacad-3323-4bf2-b65c-c138b4d8d514",
   "metadata": {
    "slideshow": {
     "slide_type": "slide"
    }
   },
   "source": [
    "WORK EXPERIENCE\n",
    "  Retail Sales Associate\t\t\t\t\t\t\t\t       May 2022 - Present\n",
    "  Dick’s Sporting Goods – Lewisville, TX\n",
    "•\tWork with a team of sales associates to provide personal, efficient customer service\n",
    "•\tGained valuable interpersonal and collaboration skills"
   ]
  },
  {
   "cell_type": "markdown",
   "id": "353e43fc-2bf0-4c57-a9a3-2aed3776bfae",
   "metadata": {
    "slideshow": {
     "slide_type": "slide"
    }
   },
   "source": [
    "ACHIEVEMENTS\n",
    "  NCAA Division 1 Baseball\t\t\t\t\t\t\t   Aug 2019 – May 2021\n",
    "  Wichita State University\n",
    "•\tNCAA Student Athletic Advisory Committee (SAAC)\n",
    "•\tDevoted 40 hours per week to athletics while carrying a full course load\n",
    "•\tGained valuable work ethic and team-building experience"
   ]
  },
  {
   "cell_type": "markdown",
   "id": "d604384c-2ba7-46f2-b9a7-0cd06b718484",
   "metadata": {
    "slideshow": {
     "slide_type": "slide"
    }
   },
   "source": [
    "AWARDS\n",
    "  Dean’s List Award\n",
    "  Wichita State University\n",
    "\n",
    "  American Athletic Conference 2019-20 All-Academic Team\n",
    "  Wichita State University"
   ]
  },
  {
   "cell_type": "markdown",
   "id": "a9ea53ba-442c-4ab5-972a-8864c92a1b07",
   "metadata": {
    "slideshow": {
     "slide_type": "slide"
    }
   },
   "source": [
    "CERTIFICATIONS\n",
    "  Texas Real Estate License\t\t\t\t\t\t\t\t  Est. May 2023"
   ]
  },
  {
   "cell_type": "markdown",
   "id": "3a2cdfa3-e923-47f1-a0bc-d192f6b0482a",
   "metadata": {
    "slideshow": {
     "slide_type": "slide"
    }
   },
   "source": [
    "ORGANIZATIONS\n",
    "  Student Mobilization (STUMO) – Dallas Chapter\n",
    "\n",
    "  Fellowship of Christian Athletes (FCA) – Wichita State University\n",
    "\n",
    "  Tau Sigma National Honor Society – Southern Methodist University\n",
    "\n",
    "  The National Society of Leadership and Success (NSLS) – Southern Methodist University"
   ]
  }
 ],
 "metadata": {
  "celltoolbar": "Slideshow",
  "kernelspec": {
   "display_name": "Python 3 (ipykernel)",
   "language": "python",
   "name": "python3"
  },
  "language_info": {
   "codemirror_mode": {
    "name": "ipython",
    "version": 3
   },
   "file_extension": ".py",
   "mimetype": "text/x-python",
   "name": "python",
   "nbconvert_exporter": "python",
   "pygments_lexer": "ipython3",
   "version": "3.9.13"
  }
 },
 "nbformat": 4,
 "nbformat_minor": 5
}
